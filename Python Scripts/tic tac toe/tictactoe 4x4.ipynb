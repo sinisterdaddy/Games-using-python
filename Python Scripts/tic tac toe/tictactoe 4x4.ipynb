{
 "cells": [
  {
   "cell_type": "code",
   "execution_count": 1,
   "id": "b237c139-8f3e-4a42-9bbb-96532aa89050",
   "metadata": {},
   "outputs": [
    {
     "name": "stdout",
     "output_type": "stream",
     "text": [
      "Player 1\n"
     ]
    },
    {
     "name": "stdout",
     "output_type": "stream",
     "text": [
      "Enter the name :  rk\n"
     ]
    },
    {
     "name": "stdout",
     "output_type": "stream",
     "text": [
      "\n",
      "\n",
      "Player 2\n"
     ]
    },
    {
     "name": "stdout",
     "output_type": "stream",
     "text": [
      "Enter the name :  rohit\n"
     ]
    },
    {
     "name": "stdout",
     "output_type": "stream",
     "text": [
      "\n",
      "\n",
      "\t--------------------------------\n",
      "\t              SCOREBOARD       \n",
      "\t--------------------------------\n",
      "\t    rk \t     0\n",
      "\t    rohit \t     0\n",
      "\t--------------------------------\n",
      "\n",
      "Turn to choose for rk\n",
      "Enter 1 for X\n",
      "Enter 2 for O\n",
      "Enter 3 to Quit\n"
     ]
    },
    {
     "name": "stdout",
     "output_type": "stream",
     "text": [
      " 1\n"
     ]
    },
    {
     "name": "stdout",
     "output_type": "stream",
     "text": [
      "\n",
      "\n",
      "\t     |     |     |\n",
      "\t     |     |     | \n",
      "\t_ _ _|_ _ _|_ _ _|_ _ _\n",
      "\t     |     |     |\n",
      "\t     |     |     | \n",
      "\t_ _ _|_ _ _|_ _ _|_ _ _\n",
      "\t     |     |     |\n",
      "\t     |     |     | \n",
      "\t_ _ _|_ _ _|_ _ _|_ _ _\n",
      "\t     |     |     |\n",
      "\t     |     |     | \n",
      "\t     |     |     |\n",
      "\n",
      "\n",
      "Player  X  turn. Which box? : "
     ]
    },
    {
     "name": "stdout",
     "output_type": "stream",
     "text": [
      " 1\n"
     ]
    },
    {
     "name": "stdout",
     "output_type": "stream",
     "text": [
      "\n",
      "\n",
      "\t     |     |     |\n",
      "\t    X|     |     | \n",
      "\t_ _ _|_ _ _|_ _ _|_ _ _\n",
      "\t     |     |     |\n",
      "\t     |     |     | \n",
      "\t_ _ _|_ _ _|_ _ _|_ _ _\n",
      "\t     |     |     |\n",
      "\t     |     |     | \n",
      "\t_ _ _|_ _ _|_ _ _|_ _ _\n",
      "\t     |     |     |\n",
      "\t     |     |     | \n",
      "\t     |     |     |\n",
      "\n",
      "\n",
      "Player  O  turn. Which box? : "
     ]
    },
    {
     "name": "stdout",
     "output_type": "stream",
     "text": [
      " 4\n"
     ]
    },
    {
     "name": "stdout",
     "output_type": "stream",
     "text": [
      "\n",
      "\n",
      "\t     |     |     |\n",
      "\t    X|     |     |O\n",
      "\t_ _ _|_ _ _|_ _ _|_ _ _\n",
      "\t     |     |     |\n",
      "\t     |     |     | \n",
      "\t_ _ _|_ _ _|_ _ _|_ _ _\n",
      "\t     |     |     |\n",
      "\t     |     |     | \n",
      "\t_ _ _|_ _ _|_ _ _|_ _ _\n",
      "\t     |     |     |\n",
      "\t     |     |     | \n",
      "\t     |     |     |\n",
      "\n",
      "\n",
      "Player  X  turn. Which box? : "
     ]
    },
    {
     "name": "stdout",
     "output_type": "stream",
     "text": [
      " 13\n"
     ]
    },
    {
     "name": "stdout",
     "output_type": "stream",
     "text": [
      "\n",
      "\n",
      "\t     |     |     |\n",
      "\t    X|     |     |O\n",
      "\t_ _ _|_ _ _|_ _ _|_ _ _\n",
      "\t     |     |     |\n",
      "\t     |     |     | \n",
      "\t_ _ _|_ _ _|_ _ _|_ _ _\n",
      "\t     |     |     |\n",
      "\t     |     |     | \n",
      "\t_ _ _|_ _ _|_ _ _|_ _ _\n",
      "\t     |     |     |\n",
      "\t    X|     |     | \n",
      "\t     |     |     |\n",
      "\n",
      "\n",
      "Player  O  turn. Which box? : "
     ]
    },
    {
     "name": "stdout",
     "output_type": "stream",
     "text": [
      " 7\n"
     ]
    },
    {
     "name": "stdout",
     "output_type": "stream",
     "text": [
      "\n",
      "\n",
      "\t     |     |     |\n",
      "\t    X|     |     |O\n",
      "\t_ _ _|_ _ _|_ _ _|_ _ _\n",
      "\t     |     |     |\n",
      "\t     |     |    O| \n",
      "\t_ _ _|_ _ _|_ _ _|_ _ _\n",
      "\t     |     |     |\n",
      "\t     |     |     | \n",
      "\t_ _ _|_ _ _|_ _ _|_ _ _\n",
      "\t     |     |     |\n",
      "\t    X|     |     | \n",
      "\t     |     |     |\n",
      "\n",
      "\n",
      "Player  X  turn. Which box? : "
     ]
    },
    {
     "name": "stdout",
     "output_type": "stream",
     "text": [
      " 5\n"
     ]
    },
    {
     "name": "stdout",
     "output_type": "stream",
     "text": [
      "\n",
      "\n",
      "\t     |     |     |\n",
      "\t    X|     |     |O\n",
      "\t_ _ _|_ _ _|_ _ _|_ _ _\n",
      "\t     |     |     |\n",
      "\t    X|     |    O| \n",
      "\t_ _ _|_ _ _|_ _ _|_ _ _\n",
      "\t     |     |     |\n",
      "\t     |     |     | \n",
      "\t_ _ _|_ _ _|_ _ _|_ _ _\n",
      "\t     |     |     |\n",
      "\t    X|     |     | \n",
      "\t     |     |     |\n",
      "\n",
      "\n",
      "Player  O  turn. Which box? : "
     ]
    },
    {
     "name": "stdout",
     "output_type": "stream",
     "text": [
      " 6\n"
     ]
    },
    {
     "name": "stdout",
     "output_type": "stream",
     "text": [
      "\n",
      "\n",
      "\t     |     |     |\n",
      "\t    X|     |     |O\n",
      "\t_ _ _|_ _ _|_ _ _|_ _ _\n",
      "\t     |     |     |\n",
      "\t    X|    O|    O| \n",
      "\t_ _ _|_ _ _|_ _ _|_ _ _\n",
      "\t     |     |     |\n",
      "\t     |     |     | \n",
      "\t_ _ _|_ _ _|_ _ _|_ _ _\n",
      "\t     |     |     |\n",
      "\t    X|     |     | \n",
      "\t     |     |     |\n",
      "\n",
      "\n",
      "Player  X  turn. Which box? : "
     ]
    },
    {
     "name": "stdout",
     "output_type": "stream",
     "text": [
      " 9\n"
     ]
    },
    {
     "name": "stdout",
     "output_type": "stream",
     "text": [
      "\n",
      "\n",
      "\t     |     |     |\n",
      "\t    X|     |     |O\n",
      "\t_ _ _|_ _ _|_ _ _|_ _ _\n",
      "\t     |     |     |\n",
      "\t    X|    O|    O| \n",
      "\t_ _ _|_ _ _|_ _ _|_ _ _\n",
      "\t     |     |     |\n",
      "\t    X|     |     | \n",
      "\t_ _ _|_ _ _|_ _ _|_ _ _\n",
      "\t     |     |     |\n",
      "\t    X|     |     | \n",
      "\t     |     |     |\n",
      "\n",
      "\n",
      "Player  X  has won the game!!\n",
      "\n",
      "\n",
      "\t--------------------------------\n",
      "\t              SCOREBOARD       \n",
      "\t--------------------------------\n",
      "\t    rk \t     1\n",
      "\t    rohit \t     0\n",
      "\t--------------------------------\n",
      "\n",
      "Turn to choose for rohit\n",
      "Enter 1 for X\n",
      "Enter 2 for O\n",
      "Enter 3 to Quit\n"
     ]
    },
    {
     "name": "stdout",
     "output_type": "stream",
     "text": [
      " 3\n"
     ]
    },
    {
     "name": "stdout",
     "output_type": "stream",
     "text": [
      "Final Scores\n",
      "\t--------------------------------\n",
      "\t              SCOREBOARD       \n",
      "\t--------------------------------\n",
      "\t    rk \t     1\n",
      "\t    rohit \t     0\n",
      "\t--------------------------------\n",
      "\n"
     ]
    }
   ],
   "source": [
    "def print_tic_tac_toe(values):\n",
    "    print(\"\\n\")\n",
    "    print(\"\\t     |     |     |\")\n",
    "    print(\"\\t    {}|    {}|    {}|{}\".format(values[0], values[1], values[2], values[3]))\n",
    "    print('\\t_ _ _|_ _ _|_ _ _|_ _ _')\n",
    " \n",
    "    print(\"\\t     |     |     |\")\n",
    "    print(\"\\t    {}|    {}|    {}|{}\".format(values[4], values[5], values[6], values[7]))\n",
    "    print('\\t_ _ _|_ _ _|_ _ _|_ _ _')\n",
    "\n",
    "    print(\"\\t     |     |     |\")\n",
    "    print(\"\\t    {}|    {}|    {}|{}\".format(values[8], values[9], values[10], values[11]))\n",
    "    print('\\t_ _ _|_ _ _|_ _ _|_ _ _') \n",
    "    print(\"\\t     |     |     |\")\n",
    " \n",
    "    print(\"\\t    {}|    {}|    {}|{}\".format(values[12], values[13], values[14], values[15]))\n",
    "    print(\"\\t     |     |     |\")\n",
    "    print(\"\\n\")\n",
    "\n",
    "# Function to print the score-board\n",
    "def print_scoreboard(score_board):\n",
    "    print(\"\\t--------------------------------\")\n",
    "    print(\"\\t              SCOREBOARD       \")\n",
    "    print(\"\\t--------------------------------\")\n",
    " \n",
    "    players = list(score_board.keys())\n",
    "    print(\"\\t   \", players[0], \"\\t    \", score_board[players[0]])\n",
    "    print(\"\\t   \", players[1], \"\\t    \", score_board[players[1]])\n",
    " \n",
    "    print(\"\\t--------------------------------\\n\")\n",
    " \n",
    "# Function to check if any player has won\n",
    "def check_win(player_pos, cur_player):\n",
    " \n",
    "    # All possible winning combinations\n",
    "    soln = [[1, 2, 3, 4], [5, 6, 7, 8], [9, 10, 11, 12], [13, 14, 15, 16], [1, 6, 11, 16], [4, 7, 10, 13], [1, 5, 9, 13], [2, 6, 10, 14], [3, 7, 11, 15], [4, 8, 12, 16]]\n",
    " \n",
    "    # Loop to check if any winning combination is satisfied\n",
    "    for x in soln:\n",
    "        if all(y in player_pos[cur_player] for y in x):\n",
    " \n",
    "            # Return True if any winning combination satisfies\n",
    "            return True\n",
    "    # Return False if no combination is satisfied       \n",
    "    return False       \n",
    " \n",
    "# Function to check if the game is drawn\n",
    "def check_draw(player_pos):\n",
    "    if len(player_pos['X']) + len(player_pos['O']) == 16:\n",
    "        return True\n",
    "    return False       \n",
    " \n",
    "# Function for a single game of Tic Tac Toe\n",
    "def single_game(cur_player):\n",
    " \n",
    "    # Represents the Tic Tac Toe\n",
    "    values = [' ' for x in range(16)]\n",
    "     \n",
    "    # Stores the positions occupied by X and O\n",
    "    player_pos = {'X':[], 'O':[]}\n",
    "     \n",
    "    # Game Loop for a single game of Tic Tac Toe\n",
    "    while True:\n",
    "        print_tic_tac_toe(values)\n",
    "         \n",
    "        # Try exception block for MOVE input\n",
    "        try:\n",
    "            print(\"Player \", cur_player, \" turn. Which box? : \", end=\"\")\n",
    "            move = int(input()) \n",
    "        except ValueError:\n",
    "            print(\"Wrong Input!!! Try Again\")\n",
    "            continue\n",
    " \n",
    "        # Sanity check for MOVE inout\n",
    "        if move < 1 or move > 16:\n",
    "            print(\"Wrong Input!!! Try Again\")\n",
    "            continue\n",
    " \n",
    "        # Check if the box is not occupied already\n",
    "        if values[move-1] != ' ':\n",
    "            print(\"Place already filled. Try again!!\")\n",
    "            continue\n",
    " \n",
    "        # Update game information\n",
    " \n",
    "        # Updating grid status \n",
    "        values[move-1] = cur_player\n",
    " \n",
    "        # Updating player positions\n",
    "        player_pos[cur_player].append(move)\n",
    " \n",
    "        # Function call for checking win\n",
    "        if check_win(player_pos, cur_player):\n",
    "            print_tic_tac_toe(values)\n",
    "            print(\"Player \", cur_player, \" has won the game!!\")     \n",
    "            print(\"\\n\")\n",
    "            return cur_player\n",
    " \n",
    "        # Function call for checking draw game\n",
    "        if check_draw(player_pos):\n",
    "            print_tic_tac_toe(values)\n",
    "            print(\"Game Drawn\")\n",
    "            print(\"\\n\")\n",
    "            return 'D'\n",
    " \n",
    "        # Switch player moves\n",
    "        if cur_player == 'X':\n",
    "            cur_player = 'O'\n",
    "        else:\n",
    "            cur_player = 'X'\n",
    " \n",
    "if __name__ == \"__main__\":\n",
    " \n",
    "    print(\"Player 1\")\n",
    "    player1 = input(\"Enter the name : \")\n",
    "    print(\"\\n\")\n",
    " \n",
    "    print(\"Player 2\")\n",
    "    player2 = input(\"Enter the name : \")\n",
    "    print(\"\\n\")\n",
    "     \n",
    "    # Stores the player who chooses X and O\n",
    "    cur_player = player1\n",
    " \n",
    "    # Stores the choice of players\n",
    "    player_choice = {'X' : \"\", 'O' : \"\"}\n",
    " \n",
    "    # Stores the options\n",
    "    options = ['X', 'O']\n",
    " \n",
    "    # Stores the scoreboard\n",
    "    score_board = {player1: 0, player2: 0}\n",
    "    print_scoreboard(score_board)\n",
    " \n",
    "    # Game Loop for a series of Tic Tac Toe\n",
    "    # The loop runs until the players quit \n",
    "    while True:\n",
    " \n",
    "        # Player choice Menu\n",
    "        print(\"Turn to choose for\", cur_player)\n",
    "        print(\"Enter 1 for X\")\n",
    "        print(\"Enter 2 for O\")\n",
    "        print(\"Enter 3 to Quit\")\n",
    " \n",
    "        # Try exception for CHOICE input\n",
    "        try:\n",
    "            choice = int(input())   \n",
    "        except ValueError:\n",
    "            print(\"Wrong Input!!! Try Again\\n\")\n",
    "            continue\n",
    " \n",
    "        # Conditions for player choice  \n",
    "        if choice == 1:\n",
    "            player_choice['X'] = cur_player\n",
    "            if cur_player == player1:\n",
    "                player_choice['O'] = player2\n",
    "            else:\n",
    "                player_choice['O'] = player1\n",
    " \n",
    "        elif choice == 2:\n",
    "            player_choice['O'] = cur_player\n",
    "            if cur_player == player1:\n",
    "                player_choice['X'] = player2\n",
    "            else:\n",
    "                player_choice['X'] = player1\n",
    "         \n",
    "        elif choice == 3:\n",
    "            print(\"Final Scores\")\n",
    "            print_scoreboard(score_board)\n",
    "            break  \n",
    " \n",
    "        else:\n",
    "            print(\"Wrong Choice!!!! Try Again\\n\")\n",
    " \n",
    "        # Stores the winner in a single game of Tic Tac Toe\n",
    "        winner = single_game(options[choice-1])\n",
    "         \n",
    "        # Edits the scoreboard according to the winner\n",
    "        if winner != 'D' :\n",
    "            player_won = player_choice[winner]\n",
    "            score_board[player_won] = score_board[player_won] + 1\n",
    " \n",
    "        print_scoreboard(score_board)\n",
    "        # Switch player who chooses X or O\n",
    "        if cur_player == player1:\n",
    "            cur_player = player2\n",
    "        else:\n",
    "            cur_player = player1 \n",
    "            "
   ]
  },
  {
   "cell_type": "code",
   "execution_count": null,
   "id": "dfa6c83a-b7b9-46c9-8320-71e650b68dbe",
   "metadata": {},
   "outputs": [],
   "source": []
  }
 ],
 "metadata": {
  "kernelspec": {
   "display_name": "Python 3",
   "language": "python",
   "name": "python3"
  },
  "language_info": {
   "codemirror_mode": {
    "name": "ipython",
    "version": 3
   },
   "file_extension": ".py",
   "mimetype": "text/x-python",
   "name": "python",
   "nbconvert_exporter": "python",
   "pygments_lexer": "ipython3",
   "version": "3.10.9"
  },
  "vscode": {
   "interpreter": {
    "hash": "8afe3bbb772decd82072f87143d0eb4ba7cd317c875311c60d967c3986be5a5a"
   }
  }
 },
 "nbformat": 4,
 "nbformat_minor": 5
}
