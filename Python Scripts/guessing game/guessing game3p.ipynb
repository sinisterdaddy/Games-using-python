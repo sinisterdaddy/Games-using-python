{
 "cells": [
  {
   "cell_type": "code",
   "execution_count": null,
   "id": "6c9b05d0-5b70-4e65-b26c-17e5f2e26c5d",
   "metadata": {},
   "outputs": [
    {
     "name": "stdin",
     "output_type": "stream",
     "text": [
      "Player1 Enter Your Name:  rk\n",
      "Player2 Enter Your Name:  r\n",
      "Player3 Enter Your Name:  rr\n"
     ]
    },
    {
     "name": "stdout",
     "output_type": "stream",
     "text": [
      "rk turn\n"
     ]
    },
    {
     "name": "stdin",
     "output_type": "stream",
     "text": [
      "Guess Number:  8\n"
     ]
    },
    {
     "name": "stdout",
     "output_type": "stream",
     "text": [
      "Player guessed higher...\n",
      "\n",
      "r turn\n"
     ]
    },
    {
     "name": "stdin",
     "output_type": "stream",
     "text": [
      "Guess Number:  8\n"
     ]
    },
    {
     "name": "stdout",
     "output_type": "stream",
     "text": [
      "Player guessed higher...\n",
      "\n",
      "rr turn\n"
     ]
    },
    {
     "name": "stdin",
     "output_type": "stream",
     "text": [
      "Guess Number:  8\n"
     ]
    },
    {
     "name": "stdout",
     "output_type": "stream",
     "text": [
      "Player guessed higher...\n",
      "\n",
      "rk turn\n"
     ]
    },
    {
     "name": "stdin",
     "output_type": "stream",
     "text": [
      "Guess Number:  8\n"
     ]
    },
    {
     "name": "stdout",
     "output_type": "stream",
     "text": [
      "Player guessed higher...\n",
      "\n",
      "r turn\n"
     ]
    },
    {
     "name": "stdin",
     "output_type": "stream",
     "text": [
      "Guess Number:  8\n"
     ]
    },
    {
     "name": "stdout",
     "output_type": "stream",
     "text": [
      "Player guessed higher...\n",
      "\n",
      "rr turn\n"
     ]
    },
    {
     "name": "stdin",
     "output_type": "stream",
     "text": [
      "Guess Number:  8\n"
     ]
    },
    {
     "name": "stdout",
     "output_type": "stream",
     "text": [
      "Player guessed higher...\n",
      "\n",
      "rk turn\n"
     ]
    },
    {
     "name": "stdin",
     "output_type": "stream",
     "text": [
      "Guess Number:  8\n"
     ]
    },
    {
     "name": "stdout",
     "output_type": "stream",
     "text": [
      "Player guessed higher...\n",
      "\n",
      "r turn\n"
     ]
    },
    {
     "name": "stdin",
     "output_type": "stream",
     "text": [
      "Guess Number:  8\n"
     ]
    },
    {
     "name": "stdout",
     "output_type": "stream",
     "text": [
      "Player guessed higher...\n",
      "\n",
      "rr turn\n"
     ]
    },
    {
     "name": "stdin",
     "output_type": "stream",
     "text": [
      "Guess Number:  8\n"
     ]
    },
    {
     "name": "stdout",
     "output_type": "stream",
     "text": [
      "Player guessed higher...\n",
      "\n",
      "rk turn\n"
     ]
    }
   ],
   "source": [
    "import random\n",
    "#generate number directly\n",
    "num = random.randrange(1,5)\n",
    "\n",
    "#initialize global variables\n",
    "player1 = \"Human\"\n",
    "player2 = \"Alien\"\n",
    "player3 = \"god\"\n",
    "player1PlayCount = 0\n",
    "player2PlayCount = 0\n",
    "player3PlayCount = 0\n",
    "maxPlayTimes = 2\n",
    "\n",
    "#game logic\n",
    "def Game():\n",
    "    global player1, player2, player, player1PlayCount, player2PlayCount, maxPlayTimes, num\n",
    "    \"\"\"enter and assign names to players\"\"\"\n",
    "    player1Name = input('Player1 Enter Your Name: ')\n",
    "    player2Name = input('Player2 Enter Your Name: ')\n",
    "    player3Name = input('Player3 Enter Your Name: ')\n",
    "    \n",
    "    player1 = player1Name\n",
    "    \n",
    "    player2 = player2Name\n",
    "    \n",
    "    player3 = player3Name\n",
    "    \n",
    "    \n",
    "    player = player1\n",
    "    \n",
    "    print(player1, 'turn')\n",
    "    \n",
    "    while ((player1PlayCount , player2PlayCount and player3PlayCount) != maxPlayTimes):\n",
    "        guessNum = int(input(\"Guess Number: \"))\n",
    "\n",
    "        if guessNum == num:\n",
    "            print(player, \"won\")\n",
    "            exit()\n",
    "        elif guessNum < num:\n",
    "            print(\"Player guessed lower...\\n\")\n",
    "        elif guessNum > num:\n",
    "            print(\"Player guessed higher...\\n\")        \n",
    "            \n",
    "        if player == player1:\n",
    "            player1PlayCount +=1\n",
    "            player = player2\n",
    "            print(player2, 'turn')\n",
    "            \n",
    "        elif player == player2:\n",
    "            player2PlayCount +=1\n",
    "            player = player3\n",
    "            print(player3, 'turn')\n",
    "        \n",
    "        elif player == player3:\n",
    "            player2PlayCount +=1\n",
    "            player = player1\n",
    "            print(player1, 'turn')\n",
    "\n",
    "        else:\n",
    "            print(\"Both \", player1, \" and \", player2, \" lose\")\n",
    "            exit()\n",
    "Game()\n"
   ]
  },
  {
   "cell_type": "code",
   "execution_count": null,
   "id": "18ef996c-7d72-4018-8a41-b568acb5598c",
   "metadata": {},
   "outputs": [],
   "source": []
  }
 ],
 "metadata": {
  "kernelspec": {
   "display_name": "Python 3 (ipykernel)",
   "language": "python",
   "name": "python3"
  },
  "language_info": {
   "codemirror_mode": {
    "name": "ipython",
    "version": 3
   },
   "file_extension": ".py",
   "mimetype": "text/x-python",
   "name": "python",
   "nbconvert_exporter": "python",
   "pygments_lexer": "ipython3",
   "version": "3.9.12"
  }
 },
 "nbformat": 4,
 "nbformat_minor": 5
}
